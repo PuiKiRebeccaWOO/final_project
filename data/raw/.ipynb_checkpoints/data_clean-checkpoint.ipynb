{
 "cells": [
  {
   "cell_type": "code",
   "execution_count": 1,
   "id": "a2b0a90c-b276-4337-8491-93dbf38dfc85",
   "metadata": {},
   "outputs": [
    {
     "ename": "ModuleNotFoundError",
     "evalue": "No module named 'pycountry'",
     "output_type": "error",
     "traceback": [
      "\u001b[31m---------------------------------------------------------------------------\u001b[39m",
      "\u001b[31mModuleNotFoundError\u001b[39m                       Traceback (most recent call last)",
      "\u001b[36mCell\u001b[39m\u001b[36m \u001b[39m\u001b[32mIn[1]\u001b[39m\u001b[32m, line 3\u001b[39m\n\u001b[32m      1\u001b[39m \u001b[38;5;28;01mimport\u001b[39;00m\u001b[38;5;250m \u001b[39m\u001b[34;01mpandas\u001b[39;00m\u001b[38;5;250m \u001b[39m\u001b[38;5;28;01mas\u001b[39;00m\u001b[38;5;250m \u001b[39m\u001b[34;01mpd\u001b[39;00m\n\u001b[32m      2\u001b[39m \u001b[38;5;28;01mimport\u001b[39;00m\u001b[38;5;250m \u001b[39m\u001b[34;01mnumpy\u001b[39;00m\u001b[38;5;250m \u001b[39m\u001b[38;5;28;01mas\u001b[39;00m\u001b[38;5;250m \u001b[39m\u001b[34;01mnp\u001b[39;00m\n\u001b[32m----> \u001b[39m\u001b[32m3\u001b[39m \u001b[38;5;28;01mimport\u001b[39;00m\u001b[38;5;250m \u001b[39m\u001b[34;01mpycountry\u001b[39;00m\n",
      "\u001b[31mModuleNotFoundError\u001b[39m: No module named 'pycountry'"
     ]
    }
   ],
   "source": [
    "import pandas as pd\n",
    "import numpy as np\n",
    "import pycountry"
   ]
  },
  {
   "cell_type": "code",
   "execution_count": null,
   "id": "c6c8b074-592b-4539-9203-1cb6fb6c5194",
   "metadata": {},
   "outputs": [],
   "source": [
    "col=pd.read_csv('cost-of-living.csv')"
   ]
  },
  {
   "cell_type": "code",
   "execution_count": null,
   "id": "b91a296a-2b78-40ca-b49d-e70fa02d5d4c",
   "metadata": {},
   "outputs": [],
   "source": [
    "col.head()"
   ]
  },
  {
   "cell_type": "code",
   "execution_count": null,
   "id": "7eb5e57e-a976-4cc5-af9a-fa86da39e98c",
   "metadata": {},
   "outputs": [],
   "source": [
    "# Select useful columns\n",
    "col = col[[\"city\", \"country\", \"x1\", \"x3\", \"x25\", \"x6\", \"x29\", \"x48\"]]"
   ]
  },
  {
   "cell_type": "code",
   "execution_count": null,
   "id": "84defa7b-2dee-44e7-ad96-ef39077e79b1",
   "metadata": {},
   "outputs": [],
   "source": [
    "# Rename column names"
   ]
  },
  {
   "cell_type": "code",
   "execution_count": null,
   "id": "58e74190-6f4d-434e-add4-d92df2485f38",
   "metadata": {},
   "outputs": [],
   "source": [
    "col = col.rename(columns={\n",
    "    \"x1\": \"meal\",\n",
    "    \"x3\": \"mcdonalds\",\n",
    "    \"x25\": \"beer\",\n",
    "    \"x6\": \"coffee\",\n",
    "    \"x29\": \"monthly_pass\",\n",
    "    \"x48\": \"monthly_rent\"\n",
    "})"
   ]
  },
  {
   "cell_type": "code",
   "execution_count": null,
   "id": "0ac572ae-d2d5-4206-9fb4-9a54159dfe4d",
   "metadata": {},
   "outputs": [],
   "source": [
    "col.head()"
   ]
  },
  {
   "cell_type": "code",
   "execution_count": null,
   "id": "3ac5882b-279b-4823-ac1d-8e57b98bafa8",
   "metadata": {},
   "outputs": [],
   "source": [
    "# Define the USD to EUR exchange rate\n",
    "usd_to_eur = 0.953124  # 1 USD = 0.953124 EUR as of Mar 3, 2025C\n",
    "\n",
    "# List of columns to convert\n",
    "columns_to_convert = [\"meal\", \"mcdonalds\", \"beer\", \"coffee\", \"monthly_pass\", \"monthly_rent\"]\n",
    "\n",
    "# Convert the specified columns from USD to EUR\n",
    "col[columns_to_convert] = (col[columns_to_convert] * usd_to_eur).round(2)\n",
    "\n",
    "# Display the first few rows to verify the conversion\n",
    "col.head(10)"
   ]
  },
  {
   "cell_type": "code",
   "execution_count": null,
   "id": "d9a777da-f5ec-4a38-95c0-490088688285",
   "metadata": {},
   "outputs": [],
   "source": [
    "col.shape"
   ]
  },
  {
   "cell_type": "code",
   "execution_count": null,
   "id": "2e621e63-bd24-4e8a-bebb-d4b8e6041f78",
   "metadata": {},
   "outputs": [],
   "source": [
    "qol=pd.read_csv('Quality_of_Life.csv')"
   ]
  },
  {
   "cell_type": "code",
   "execution_count": null,
   "id": "7a2ba3ec-84a1-403e-92dc-6475e375eccd",
   "metadata": {},
   "outputs": [],
   "source": [
    "# Format column names: lowercase and replace spaces with underscores\n",
    "qol.columns = qol.columns.str.lower().str.replace(\" \", \"_\")"
   ]
  },
  {
   "cell_type": "code",
   "execution_count": null,
   "id": "058f7b9b-44da-442a-a7a7-d2904a16e284",
   "metadata": {},
   "outputs": [],
   "source": [
    "qol = qol.drop(columns=[\"purchasing_power_value\", \"purchasing_power_category\",\"health_care_value\", \"health_care_category\", \"property_price_to_income_value\", \"property_price_to_income_category\", \"traffic_commute_time_value\", \"traffic_commute_time_category\"])"
   ]
  },
  {
   "cell_type": "code",
   "execution_count": null,
   "id": "15eaa9f7-faf4-4430-9c88-e55e0665ade7",
   "metadata": {},
   "outputs": [],
   "source": [
    "qol.head()"
   ]
  },
  {
   "cell_type": "code",
   "execution_count": null,
   "id": "729f59d5-72e9-42d8-aa50-666f4b0f35dd",
   "metadata": {},
   "outputs": [],
   "source": [
    "qol.shape"
   ]
  },
  {
   "cell_type": "code",
   "execution_count": null,
   "id": "1b601e6d-b4ec-4da9-a7d8-485a2f1fd8ab",
   "metadata": {},
   "outputs": [],
   "source": [
    "internet=pd.read_csv('Internet Speed.csv')"
   ]
  },
  {
   "cell_type": "code",
   "execution_count": null,
   "id": "9f6e4bce-800e-4a7d-814b-0635ad9d5ce1",
   "metadata": {},
   "outputs": [],
   "source": [
    "internet.head()"
   ]
  },
  {
   "cell_type": "code",
   "execution_count": null,
   "id": "e032b646-9f18-42fc-b37c-868404e6c20f",
   "metadata": {},
   "outputs": [],
   "source": [
    "internet.shape"
   ]
  },
  {
   "cell_type": "code",
   "execution_count": null,
   "id": "018c7899-ae89-41b3-97d8-621e49c62673",
   "metadata": {},
   "outputs": [],
   "source": [
    "nomads = pd.read_csv('Nomads_Data.csv', delimiter=';')"
   ]
  },
  {
   "cell_type": "code",
   "execution_count": null,
   "id": "6060150b-1060-41b3-bc25-ee50e9c00d61",
   "metadata": {},
   "outputs": [],
   "source": [
    "nomads"
   ]
  },
  {
   "cell_type": "code",
   "execution_count": null,
   "id": "6474eab8-e211-4cbe-84fa-295ed72d1c47",
   "metadata": {},
   "outputs": [],
   "source": []
  }
 ],
 "metadata": {
  "kernelspec": {
   "display_name": "Python (project_venv)",
   "language": "python",
   "name": "project_venv"
  },
  "language_info": {
   "codemirror_mode": {
    "name": "ipython",
    "version": 3
   },
   "file_extension": ".py",
   "mimetype": "text/x-python",
   "name": "python",
   "nbconvert_exporter": "python",
   "pygments_lexer": "ipython3",
   "version": "3.12.2"
  }
 },
 "nbformat": 4,
 "nbformat_minor": 5
}
