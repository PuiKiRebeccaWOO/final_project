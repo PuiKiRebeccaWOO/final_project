{
 "cells": [
  {
   "cell_type": "code",
   "execution_count": null,
   "id": "cfa8c0d7-6815-4f11-92a1-0bbd4ff92a98",
   "metadata": {},
   "outputs": [],
   "source": [
    "import pandas as pd\n",
    "import numpy as np\n",
    "from scipy.stats import ttest_ind"
   ]
  },
  {
   "cell_type": "code",
   "execution_count": null,
   "id": "f9e1b551-68ad-4fcc-a4c6-908edbd83215",
   "metadata": {},
   "outputs": [],
   "source": [
    "df=pd.read_csv('../data/clean/nomads_all_merged.csv', sep=\";\")"
   ]
  },
  {
   "cell_type": "code",
   "execution_count": null,
   "id": "bd44b6f3-ba5f-4de8-96e0-3567a3858b63",
   "metadata": {},
   "outputs": [],
   "source": [
    "df"
   ]
  },
  {
   "cell_type": "markdown",
   "id": "7b0745a7-2b4f-475c-9616-80a4d45edc75",
   "metadata": {},
   "source": [
    "## Hypothesis testing 1\n",
    "#### Null Hypothesis (H₀):\n",
    "##### There is no significant difference in the number of digital nomads between low-cost and high-cost cities.\n",
    "\n",
    "\n",
    "#### Alternative Hypothesis (H₁):\n",
    "##### Low-cost-of-living cities have significantly more digital nomads than high-cost-of-living cities."
   ]
  },
  {
   "cell_type": "code",
   "execution_count": null,
   "id": "9720fe90-169e-4762-846e-56f089a59a86",
   "metadata": {},
   "outputs": [],
   "source": [
    "# Calculate the sum of digital_nomads_count grouped by cost_of_living_category\n",
    "df_cat = df.groupby(\"cost_of_living_category\")[\"digital_nomads_count\"].sum().round().reset_index().sort_values(by=\"digital_nomads_count\", ascending=False)\n",
    "df_cat"
   ]
  },
  {
   "cell_type": "code",
   "execution_count": null,
   "id": "70aecddc-5710-4ebc-97b8-20c3d868d64c",
   "metadata": {},
   "outputs": [],
   "source": [
    "low_cost = df_cat[df_cat[\"cost_of_living_category\"].isin([\"Very Low\", \"Low\"])][\"digital_nomads_count\"]\n",
    "high_cost = df_cat[df_cat[\"cost_of_living_category\"].isin([\"High\", \"Very High\"])][\"digital_nomads_count\"]"
   ]
  },
  {
   "cell_type": "code",
   "execution_count": null,
   "id": "0f5bd804-b5ca-46d3-b369-9f29439b2c9e",
   "metadata": {},
   "outputs": [],
   "source": [
    "t_stat, p_value = ttest_ind(low_cost, high_cost, equal_var=False)\n",
    "results = pd.DataFrame({\"Test\": [\"Independent t-test\"], \"T-Statistic\": [t_stat], \"P-Value\": [p_value]})"
   ]
  },
  {
   "cell_type": "code",
   "execution_count": null,
   "id": "df482915-ab95-48e6-8179-4538fd6cb2e0",
   "metadata": {},
   "outputs": [],
   "source": [
    "alpha = 0.05  # Significance level\n",
    "\n",
    "if p_value < alpha:\n",
    "    interpretation = \"Reject H₀: There is a significant difference, and low-cost cities attract significantly more digital nomads.\"\n",
    "else:\n",
    "    interpretation = \"Fail to reject H₀: There is no significant difference in digital nomads between low-cost and high-cost cities.\"\n",
    "\n",
    "interpretation"
   ]
  },
  {
   "cell_type": "code",
   "execution_count": null,
   "id": "1a11a050-a9de-4732-b3d8-813cc4b7e596",
   "metadata": {},
   "outputs": [],
   "source": [
    "results"
   ]
  },
  {
   "cell_type": "markdown",
   "id": "59b9e38d-e99e-492b-b084-d883a6505018",
   "metadata": {},
   "source": [
    "## Hypothesis testing 2\n",
    "#### Null Hypothesis (H₀): \n",
    "##### There is no significant difference in the number of digital nomads between low-quality-of-life and high-quality-of-life cities.\n",
    "#### Alternative Hypothesis (H₁): \n",
    "##### High-quality-of-life cities attract significantly more digital nomads than low-quality-of-life cities."
   ]
  },
  {
   "cell_type": "code",
   "execution_count": null,
   "id": "5e5bf460-a59e-4f70-b6c6-96e4c4b91d25",
   "metadata": {},
   "outputs": [],
   "source": [
    "df_cat = df.groupby(\"quality_of_life_category\")[\"digital_nomads_count\"].sum().round().reset_index().sort_values(by=\"digital_nomads_count\", ascending=False)\n",
    "df_cat"
   ]
  },
  {
   "cell_type": "code",
   "execution_count": null,
   "id": "4ec7adcd-2cba-4522-8ae7-7f867d897a47",
   "metadata": {},
   "outputs": [],
   "source": [
    "low_qol = df_cat[df_cat[\"quality_of_life_category\"].isin([\"Very Low\", \"Low\"])][\"digital_nomads_count\"]\n",
    "high_qol = df_cat[df_cat[\"quality_of_life_category\"].isin([\"High\", \"Very High\"])][\"digital_nomads_count\"]\n",
    "\n",
    "t_stat_qol, p_value_qol = ttest_ind(low_qol, high_qol, equal_var=False)\n",
    "\n",
    "results_qol = pd.DataFrame({\"Test\": [\"Independent t-test\"], \"T-Statistic\": [t_stat_qol], \"P-Value\": [p_value_qol]})"
   ]
  },
  {
   "cell_type": "code",
   "execution_count": null,
   "id": "1ac27859-d147-466d-b535-b50e122d7968",
   "metadata": {},
   "outputs": [],
   "source": [
    "alpha = 0.05\n",
    "\n",
    "if p_value_qol < alpha:\n",
    "    interpretation_qol = \"Reject H₀: There is a significant difference, and high-quality-of-life cities attract significantly more digital nomads.\"\n",
    "else:\n",
    "    interpretation_qol = \"Fail to reject H₀: There is no significant difference in digital nomads between low-quality and high-quality cities.\"\n",
    "\n",
    "interpretation_qol"
   ]
  },
  {
   "cell_type": "code",
   "execution_count": null,
   "id": "f377a9ae-3862-4f84-86f1-4c6fb13ca9f7",
   "metadata": {},
   "outputs": [],
   "source": [
    "results_qol"
   ]
  },
  {
   "cell_type": "code",
   "execution_count": null,
   "id": "1dfdfc2c-1a59-4312-be8c-41ea29b8002b",
   "metadata": {},
   "outputs": [],
   "source": []
  }
 ],
 "metadata": {
  "kernelspec": {
   "display_name": "venv_fp",
   "language": "python",
   "name": "venv_fp"
  },
  "language_info": {
   "codemirror_mode": {
    "name": "ipython",
    "version": 3
   },
   "file_extension": ".py",
   "mimetype": "text/x-python",
   "name": "python",
   "nbconvert_exporter": "python",
   "pygments_lexer": "ipython3",
   "version": "3.12.2"
  }
 },
 "nbformat": 4,
 "nbformat_minor": 5
}
