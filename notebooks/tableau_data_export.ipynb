{
 "cells": [
  {
   "cell_type": "code",
   "execution_count": 1,
   "id": "ffa62622-97fc-46c5-b9b5-08e9dc5a5526",
   "metadata": {},
   "outputs": [],
   "source": [
    "import pandas as pd\n",
    "import numpy as np"
   ]
  },
  {
   "cell_type": "code",
   "execution_count": 2,
   "id": "d843c4bc-34ab-46c5-a18d-d2a68d951616",
   "metadata": {},
   "outputs": [],
   "source": [
    "nomads_all_merged=pd.read_csv('../data/clean/nomads_all_merged.csv', sep=\";\")"
   ]
  },
  {
   "cell_type": "code",
   "execution_count": 3,
   "id": "9331ca1e-ff49-4f44-9429-1f6bc7a08f9d",
   "metadata": {},
   "outputs": [],
   "source": [
    "trip_df_cleaned=pd.read_csv('../data/clean/trip_df_cleaned.csv', sep=\";\")"
   ]
  },
  {
   "cell_type": "code",
   "execution_count": 4,
   "id": "ed25b41a-9d93-4e40-82c3-9fc2236c71c0",
   "metadata": {},
   "outputs": [],
   "source": [
    "users_work_ver=pd.read_csv('../data/clean/users_work_ver.csv', sep=\";\")"
   ]
  },
  {
   "cell_type": "code",
   "execution_count": 5,
   "id": "f30bd6c3-fa67-4f68-9370-0b65efb48a6c",
   "metadata": {},
   "outputs": [],
   "source": [
    "users_wework=pd.read_csv('../data/clean/users_wework.csv', sep=\";\")"
   ]
  },
  {
   "cell_type": "code",
   "execution_count": 8,
   "id": "c7b5d5b8-7b48-4726-a1b6-ce76ecb7fad1",
   "metadata": {},
   "outputs": [
    {
     "name": "stdout",
     "output_type": "stream",
     "text": [
      "✅ Excel file saved successfully at: ../data/clean/tableau_nomads.xlsx\n"
     ]
    }
   ],
   "source": [
    "# Define the file path for the Excel export\n",
    "excel_file_path = \"../data/clean/tableau_nomads.xlsx\"\n",
    "\n",
    "# Export Excel file with multiple sheets\n",
    "with pd.ExcelWriter(excel_file_path, engine=\"xlsxwriter\") as writer:\n",
    "    nomads_all_merged.to_excel(writer, sheet_name=\"Nomads All Merged\", index=False)\n",
    "    trip_df_cleaned.to_excel(writer, sheet_name=\"Trip Data Cleaned\", index=False)\n",
    "    users_work_ver.to_excel(writer, sheet_name=\"Users Work Version\", index=False)\n",
    "    users_wework.to_excel(writer, sheet_name=\"Users Wework\", index=False)\n",
    "    \n",
    "print(f\"✅ Excel file saved successfully at: {excel_file_path}\")"
   ]
  },
  {
   "cell_type": "code",
   "execution_count": null,
   "id": "d926a464-1d52-4430-b87c-41bfa7eac32e",
   "metadata": {},
   "outputs": [],
   "source": []
  }
 ],
 "metadata": {
  "kernelspec": {
   "display_name": "Python 3 (ipykernel)",
   "language": "python",
   "name": "python3"
  },
  "language_info": {
   "codemirror_mode": {
    "name": "ipython",
    "version": 3
   },
   "file_extension": ".py",
   "mimetype": "text/x-python",
   "name": "python",
   "nbconvert_exporter": "python",
   "pygments_lexer": "ipython3",
   "version": "3.12.2"
  }
 },
 "nbformat": 4,
 "nbformat_minor": 5
}
