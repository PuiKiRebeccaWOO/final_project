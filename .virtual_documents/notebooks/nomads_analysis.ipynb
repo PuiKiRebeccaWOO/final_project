import pandas as pd
import numpy as np
import pymysql
from sqlalchemy import create_engine
import getpass  # To get the password without showing the input
password = getpass.getpass()

# Note that when you use _SQLAlchemy_ and establish the connection, you do not even need to be logged in Sequel Pro or MySQL Workbench.


bd = "nomads"
connection_string = 'mysql+pymysql://root:' + password + '@localhost/'+bd
engine = create_engine(connection_string)
engine





from sqlalchemy import text

with engine.connect() as connection:
    query = text("SELECT * FROM nomads")
    result = connection.execute(query)

    nomads = pd.DataFrame(result.fetchall(), columns=result.keys())


nomads.head()


with engine.connect() as connection:
    query = text("SELECT * FROM cost_of_living")
    result = connection.execute(query)

    col = pd.DataFrame(result.fetchall(), columns=result.keys())


col.head()


with engine.connect() as connection:
    query = text("SELECT * FROM quality_of_life")
    result = connection.execute(query)

    qol = pd.DataFrame(result.fetchall(), columns=result.keys())


qol.head()


with engine.connect() as connection:
    query = text("SELECT * FROM internet_speed")
    result = connection.execute(query)

    internet = pd.DataFrame(result.fetchall(), columns=result.keys())


internet.head()


with engine.connect() as connection:
    query = text("SELECT * FROM wework_loc")
    result = connection.execute(query)

    loc = pd.DataFrame(result.fetchall(), columns=result.keys())


loc.head()


with engine.connect() as connection:
    query = text("SELECT * FROM users_work")
    result = connection.execute(query)

    work = pd.DataFrame(result.fetchall(), columns=result.keys())


work.head()


with engine.connect() as connection:
    query = text("SELECT * FROM user_trips")
    result = connection.execute(query)

    trip = pd.DataFrame(result.fetchall(), columns=result.keys())


trip.head()





nomads_country_codes = set(nomads["country_code"].unique())
qol_country_codes = set(qol["country_code"].unique())

# Find mismatches
mismatched_codes = nomads_country_codes - qol_country_codes
mismatched_codes


# Drop rows where country_code is blank
qol = qol[qol["country_code"] != ""]
qol = qol.reset_index(drop=True)


# Select relevant columns
nomads_selected = nomads[["rank", "country_code"]]


# Get the first-ranked city for each unique country_code
nomads_selected = nomads_selected.sort_values(by="rank").drop_duplicates(subset=["country_code"], keep="first")
nomads_selected = nomads_selected.reset_index(drop=True)


# Select only the top ranked cities
nomads_rank = nomads_selected[nomads_selected["rank"] <= 40]


nomads_rank.head()


qol_selected = qol.select_dtypes(include=["number"]).copy()


qol_selected["country_code"] = qol["country_code"]


qol_selected = qol_selected.drop(columns=['id'])


qol_selected.head()


internet_selected = internet.rename(columns={"broadband": "internet_speed"})
internet_selected = internet_selected[["country_code","internet_speed"]]


# Perform left join on country_code
merged_df = nomads_rank.merge(qol_selected, on="country_code", how="left") \
                       .merge(internet_selected, on="country_code", how="left")


merged_df = merged_df.dropna().reset_index(drop=True)


merged_df.head()


numeric_df = merged_df.drop(columns=["country_code"])


# Compute correlation matrix
correlation_matrix = numeric_df.corr()


correlation_matrix


import matplotlib.pyplot as plt
import seaborn as sns

# Visualizing the full correlation matrix as a heatmap
plt.figure(figsize=(8, 6))
sns.heatmap(correlation_matrix, annot=True, cmap="RdBu_r", fmt=".2f", linewidths=0.5)
plt.title("Correlation Matrix Heatmap")
plt.show()





import matplotlib.pyplot as plt
import plotly.express as px



